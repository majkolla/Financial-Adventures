{
 "cells": [
  {
   "cell_type": "markdown",
   "id": "d1fdf3ac",
   "metadata": {},
   "source": [
    "# Black Scholes \n",
    "\n",
    "Here I'll look at some ways of pricing european options, and implement stuff, I'll look into different ways to do that and make simple intuitive arguments. I'm doing this now because i realize that I need to do this to properly compare the pricing by using fourier and wavelets. So this does come after. I'll make simple arguments to why the formulas are the way they are and then look at the limitations of the closed form formula. This is where using pricing in the frequency domain can become more useful! "
   ]
  }
 ],
 "metadata": {
  "language_info": {
   "name": "python"
  }
 },
 "nbformat": 4,
 "nbformat_minor": 5
}
